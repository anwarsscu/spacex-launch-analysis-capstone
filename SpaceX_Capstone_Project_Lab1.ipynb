{
 "cells": [
  {
   "cell_type": "markdown",
   "id": "3a40a351-2fc1-4646-9041-7334ec63181f",
   "metadata": {},
   "source": [
    "# SpaceX Falcon 9 First Stage Landing Prediction\n",
    "\n",
    "## Lab 1: Collecting the Data\n",
    "\n",
    "In this capstone, we aim to predict if the Falcon 9 first stage will land successfully. SpaceX advertises Falcon 9 rocket launches at 62 million dollars, significantly less than the competition due to its reusability. Predicting first stage landing success helps understand launch costs and offers competitive analysis for other aerospace companies.\n"
   ]
  },
  {
   "cell_type": "markdown",
   "id": "320ce4c0-3fd2-4e5a-97db-ca01ec27b8ef",
   "metadata": {},
   "source": [
    "### Step 1: Importing Required Libraries"
   ]
  },
  {
   "cell_type": "code",
   "execution_count": null,
   "id": "58d6fd30-b242-4670-a717-dee5719b3431",
   "metadata": {},
   "outputs": [],
   "source": [
    "import requests\n",
    "import pandas as pd\n",
    "import numpy as np\n",
    "import datetime\n",
    "\n",
    "pd.set_option('display.max_columns', None)\n",
    "pd.set_option('display.max_colwidth', None)\n"
   ]
  },
  {
   "cell_type": "markdown",
   "id": "91b4926c-7fd8-41d0-be8a-86886cf41cab",
   "metadata": {},
   "source": [
    "### Step 2: Fetch Launch Data from SpaceX API"
   ]
  },
  {
   "cell_type": "code",
   "execution_count": null,
   "id": "91d12b8f-86ba-4ae2-9dc0-18c86dd2853a",
   "metadata": {},
   "outputs": [],
   "source": [
    "BoosterVersion = []\n",
    "PayloadMass = []\n",
    "Orbit = []\n",
    "LaunchSite = []\n",
    "Outcome = []\n",
    "Flights = []\n",
    "GridFins = []\n",
    "Reused = []\n",
    "Legs = []\n",
    "LandingPad = []\n",
    "Block = []\n",
    "ReusedCount = []\n",
    "Serial = []\n",
    "Longitude = []\n",
    "Latitude = []\n",
    "\n",
    "def getBoosterVersion(data):\n",
    "    for x in data['rocket']:\n",
    "        if x:\n",
    "            response = requests.get(\"https://api.spacexdata.com/v4/rockets/\" + str(x)).json()\n",
    "            BoosterVersion.append(response['name'])\n",
    "\n",
    "def getLaunchSite(data):\n",
    "    for x in data['launchpad']:\n",
    "        if x:\n",
    "            response = requests.get(\"https://api.spacexdata.com/v4/launchpads/\" + str(x)).json()\n",
    "            Longitude.append(response['longitude'])\n",
    "            Latitude.append(response['latitude'])\n",
    "            LaunchSite.append(response['name'])\n",
    "\n",
    "def getPayloadData(data):\n",
    "    for load in data['payloads']:\n",
    "        if load:\n",
    "            response = requests.get(\"https://api.spacexdata.com/v4/payloads/\" + load).json()\n",
    "            PayloadMass.append(response['mass_kg'])\n",
    "            Orbit.append(response['orbit'])\n",
    "\n",
    "def getCoreData(data):\n",
    "    for core in data['cores']:\n",
    "        if core['core'] is not None:\n",
    "            response = requests.get(\"https://api.spacexdata.com/v4/cores/\" + core['core']).json()\n",
    "            Block.append(response['block'])\n",
    "            ReusedCount.append(response['reuse_count'])\n",
    "            Serial.append(response['serial'])\n",
    "        else:\n",
    "            Block.append(None)\n",
    "            ReusedCount.append(None)\n",
    "            Serial.append(None)\n",
    "\n",
    "        Outcome.append(str(core['landing_success']) + ' ' + str(core['landing_type']))\n",
    "        Flights.append(core['flight'])\n",
    "        GridFins.append(core['gridfins'])\n",
    "        Reused.append(core['reused'])\n",
    "        Legs.append(core['legs'])\n",
    "        LandingPad.append(core['landpad'])\n"
   ]
  },
  {
   "cell_type": "markdown",
   "id": "97356d94-2fb2-4ed2-95d8-a44d072a2346",
   "metadata": {},
   "source": [
    "### Step 3: Load Static JSON Data from URL"
   ]
  },
  {
   "cell_type": "code",
   "execution_count": null,
   "id": "98f955f8-74ad-4c8f-a457-60291ca803f3",
   "metadata": {},
   "outputs": [],
   "source": [
    "import pandas as pd\n",
    "import requests  # ✅ Add this line to fix the error\n",
    "\n",
    "# Load data from static JSON URL\n",
    "static_json_url = 'https://cf-courses-data.s3.us.cloud-object-storage.appdomain.cloud/IBM-DS0321EN-SkillsNetwork/datasets/API_call_spacex_api.json'\n",
    "response = requests.get(static_json_url)\n",
    "\n",
    "# Normalize nested JSON structure\n",
    "data = pd.json_normalize(response.json())\n",
    "\n",
    "# Select only required columns\n",
    "data = data[['rocket', 'payloads', 'launchpad', 'cores', 'flight_number', 'date_utc']]\n",
    "\n",
    "# Display the head of the DataFrame\n",
    "data.head()"
   ]
  },
  {
   "cell_type": "markdown",
   "id": "3e1084c1-15d0-4b5d-97d6-f824f34bf021",
   "metadata": {},
   "source": [
    "### Step 4: Cleaning and Preparing Dataset"
   ]
  },
  {
   "cell_type": "code",
   "execution_count": null,
   "id": "244a0aec-df30-4bda-b699-781a22ff19e7",
   "metadata": {},
   "outputs": [],
   "source": [
    "import datetime  # ✅ Required for datetime.date()\n",
    "\n",
    "# Filter data where there is only one core and one payload\n",
    "data = data[data['cores'].map(len) == 1]\n",
    "data = data[data['payloads'].map(len) == 1]\n",
    "\n",
    "# Flatten the nested lists\n",
    "data['cores'] = data['cores'].map(lambda x: x[0])\n",
    "data['payloads'] = data['payloads'].map(lambda x: x[0])\n",
    "\n",
    "# Convert date_utc to Python date\n",
    "data['date'] = pd.to_datetime(data['date_utc']).dt.date\n",
    "\n",
    "# Filter by date\n",
    "data = data[data['date'] <= datetime.date(2020, 11, 13)]\n",
    "\n",
    "# Optional: Preview result\n",
    "data.head()"
   ]
  },
  {
   "cell_type": "markdown",
   "id": "118bd0dc-1b9d-4150-ae8d-221942f47275",
   "metadata": {},
   "source": [
    "### Step 5: Calling Helper Functions to Fetch Detailed Info"
   ]
  },
  {
   "cell_type": "code",
   "execution_count": null,
   "id": "275bea9f-59cf-44c0-86c3-70c82572e7df",
   "metadata": {},
   "outputs": [],
   "source": [
    "getBoosterVersion(data)\n",
    "getLaunchSite(data)\n",
    "getPayloadData(data)\n",
    "getCoreData(data)\n"
   ]
  },
  {
   "cell_type": "markdown",
   "id": "757e4016-f407-4bed-852e-58a2240a11b0",
   "metadata": {},
   "source": [
    "### Step 6: Construct the Final Launch Data Dictionary"
   ]
  },
  {
   "cell_type": "code",
   "execution_count": null,
   "id": "e954f6ed-b437-4b95-9232-d2314ebcae7e",
   "metadata": {},
   "outputs": [],
   "source": [
    "launch_dict = {\n",
    "    'FlightNumber': list(data['flight_number']),\n",
    "    'Date': list(data['date']),\n",
    "    'BoosterVersion': BoosterVersion,\n",
    "    'PayloadMass': PayloadMass,\n",
    "    'Orbit': Orbit,\n",
    "    'LaunchSite': LaunchSite,\n",
    "    'Outcome': Outcome,\n",
    "    'Flights': Flights,\n",
    "    'GridFins': GridFins,\n",
    "    'Reused': Reused,\n",
    "    'Legs': Legs,\n",
    "    'LandingPad': LandingPad,\n",
    "    'Block': Block,\n",
    "    'ReusedCount': ReusedCount,\n",
    "    'Serial': Serial,\n",
    "    'Longitude': Longitude,\n",
    "    'Latitude': Latitude\n",
    "}\n",
    "data = pd.DataFrame(launch_dict)\n"
   ]
  },
  {
   "cell_type": "markdown",
   "id": "17e6208c-24e4-4c24-87bf-a5c78c911b6b",
   "metadata": {},
   "source": [
    "### Step 7: Filter for Falcon 9 Launches"
   ]
  },
  {
   "cell_type": "code",
   "execution_count": null,
   "id": "3299c012-3d4f-4d1c-8622-ebf429538fa2",
   "metadata": {},
   "outputs": [],
   "source": [
    "data_falcon9 = data[data['BoosterVersion'] != 'Falcon 1'].copy()\n",
    "data_falcon9.loc[:, 'FlightNumber'] = list(range(1, data_falcon9.shape[0]+1))\n"
   ]
  },
  {
   "cell_type": "markdown",
   "id": "70668ad9-ce00-40fd-9184-6837f7c65c18",
   "metadata": {},
   "source": [
    "### Step 8: Handle Missing Values"
   ]
  },
  {
   "cell_type": "code",
   "execution_count": null,
   "id": "825342a4-a07e-49c0-9720-f65fb35fb3bd",
   "metadata": {
    "scrolled": true
   },
   "outputs": [],
   "source": [
    "data_falcon9['PayloadMass'] = data_falcon9['PayloadMass'].fillna(payload_mean)\n"
   ]
  },
  {
   "cell_type": "markdown",
   "id": "6471d11b-1ebe-42f4-b597-9ffe32efb745",
   "metadata": {},
   "source": [
    "### Step 9: Save to CSV"
   ]
  },
  {
   "cell_type": "code",
   "execution_count": null,
   "id": "5acf5b99-0537-4030-bb30-ae628706b38e",
   "metadata": {},
   "outputs": [],
   "source": [
    "data_falcon9.to_csv('dataset_part_1.csv', index=False)"
   ]
  },
  {
   "cell_type": "markdown",
   "id": "a2fa28da-48ab-44c0-9b2a-802b2fd44cf3",
   "metadata": {},
   "source": [
    "**Dataset preparation complete for Part 1: Collecting and Wrangling the Data.**"
   ]
  },
  {
   "cell_type": "code",
   "execution_count": null,
   "id": "79c981af-5bc7-4b10-9a6f-8e65355221d7",
   "metadata": {},
   "outputs": [],
   "source": []
  }
 ],
 "metadata": {
  "kernelspec": {
   "display_name": "Python 3 (ipykernel)",
   "language": "python",
   "name": "python3"
  },
  "language_info": {
   "codemirror_mode": {
    "name": "ipython",
    "version": 3
   },
   "file_extension": ".py",
   "mimetype": "text/x-python",
   "name": "python",
   "nbconvert_exporter": "python",
   "pygments_lexer": "ipython3",
   "version": "3.13.5"
  }
 },
 "nbformat": 4,
 "nbformat_minor": 5
}
